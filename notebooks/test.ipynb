{
 "cells": [
  {
   "cell_type": "code",
   "execution_count": 1,
   "metadata": {},
   "outputs": [],
   "source": [
    "import numpy as np"
   ]
  },
  {
   "cell_type": "code",
   "execution_count": 4,
   "metadata": {},
   "outputs": [],
   "source": [
    "a = np.array([[[1, 2, 3, 4],\n",
    "               [1, 2, 3, 4],\n",
    "               [1, 2, 3, 4]],\n",
    "              [[1, 2, 3, 4],\n",
    "               [1, 2, 3, 4],\n",
    "               [1, 2, 3, 4]]])"
   ]
  },
  {
   "cell_type": "code",
   "execution_count": 5,
   "metadata": {},
   "outputs": [
    {
     "data": {
      "text/plain": [
       "(2, 3, 4)"
      ]
     },
     "execution_count": 5,
     "metadata": {},
     "output_type": "execute_result"
    }
   ],
   "source": [
    "a.shape"
   ]
  },
  {
   "cell_type": "code",
   "execution_count": 6,
   "metadata": {},
   "outputs": [
    {
     "data": {
      "text/plain": [
       "array([1, 2, 3, 4, 1, 2, 3, 4, 1, 2, 3, 4, 1, 2, 3, 4, 1, 2, 3, 4, 1, 2,\n",
       "       3, 4])"
      ]
     },
     "execution_count": 6,
     "metadata": {},
     "output_type": "execute_result"
    }
   ],
   "source": [
    "a.flatten()"
   ]
  },
  {
   "cell_type": "code",
   "execution_count": 2,
   "metadata": {},
   "outputs": [
    {
     "data": {
      "text/plain": [
       "array([[-0.61120614,  1.38692494,  0.20973059, ...,  2.20634449,\n",
       "         1.1191495 , -0.30813994],\n",
       "       [ 1.86361516, -0.07585298, -1.00877222, ..., -0.55684303,\n",
       "         0.75660765, -0.26850395],\n",
       "       [ 0.94399285,  0.42102977,  0.0621433 , ...,  0.49328543,\n",
       "         1.23646315,  1.20050905],\n",
       "       ...,\n",
       "       [-0.58989246, -0.7141929 ,  0.36058359, ...,  0.1451661 ,\n",
       "        -1.13866855, -1.46860832],\n",
       "       [-0.00958281,  0.24556846,  0.98629366, ...,  0.96385653,\n",
       "         0.18423602,  0.6147231 ],\n",
       "       [ 1.22580178, -1.3066263 , -0.49749757, ..., -2.806131  ,\n",
       "         0.51248203, -0.58644911]])"
      ]
     },
     "execution_count": 2,
     "metadata": {},
     "output_type": "execute_result"
    }
   ],
   "source": [
    "np.random.randn(10, 13 * 13 * 8)"
   ]
  },
  {
   "cell_type": "code",
   "execution_count": null,
   "metadata": {},
   "outputs": [],
   "source": []
  }
 ],
 "metadata": {
  "kernelspec": {
   "display_name": "Python 3",
   "language": "python",
   "name": "python3"
  },
  "language_info": {
   "codemirror_mode": {
    "name": "ipython",
    "version": 3
   },
   "file_extension": ".py",
   "mimetype": "text/x-python",
   "name": "python",
   "nbconvert_exporter": "python",
   "pygments_lexer": "ipython3",
   "version": "3.8.3"
  }
 },
 "nbformat": 4,
 "nbformat_minor": 2
}
